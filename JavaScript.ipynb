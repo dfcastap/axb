{
 "cells": [
  {
   "cell_type": "markdown",
   "metadata": {},
   "source": [
    "# Numeric JavaScript\n",
    "\n",
    "You should install `node` and `npm`. \n",
    "\n",
    "For the jupyter kernel, I used this: https://www.npmjs.com/package/ijavascript\n",
    "\n",
    "There's also this: https://github.com/notablemind/jupyter-nodejs\n",
    "\n",
    "I bet there are others."
   ]
  },
  {
   "cell_type": "markdown",
   "metadata": {},
   "source": [
    "## Numeric JS\n",
    "\n",
    "Following along from http://www.numericjs.com/workshop.php\n",
    "\n",
    "I am using the minified JS file in this repo."
   ]
  },
  {
   "cell_type": "code",
   "execution_count": 1,
   "metadata": {
    "collapsed": false
   },
   "outputs": [
    {
     "data": {
      "text/plain": [
       "undefined"
      ]
     },
     "execution_count": 1,
     "metadata": {},
     "output_type": "execute_result"
    }
   ],
   "source": [
    "var n = require('./numeric-1.2.6.min.js');"
   ]
  },
  {
   "cell_type": "code",
   "execution_count": 2,
   "metadata": {
    "collapsed": false
   },
   "outputs": [
    {
     "data": {
      "text/plain": [
       "[ [ 1, 2, 3 ], [ 4, 5, 6 ], [ 7, 3, 9 ] ]"
      ]
     },
     "execution_count": 2,
     "metadata": {},
     "output_type": "execute_result"
    }
   ],
   "source": [
    "// Linear algebra example. We start with a matrix.\n",
    "var A = [[1,2,3],\n",
    "         [4,5,6],\n",
    "         [7,3,9]];\n",
    "A"
   ]
  },
  {
   "cell_type": "code",
   "execution_count": 3,
   "metadata": {
    "collapsed": false
   },
   "outputs": [
    {
     "data": {
      "text/plain": [
       "[ 3, 1, 2 ]"
      ]
     },
     "execution_count": 3,
     "metadata": {},
     "output_type": "execute_result"
    }
   ],
   "source": [
    "// Let's also make a vector.\n",
    "var x = [3,1,2];\n",
    "x"
   ]
  },
  {
   "cell_type": "code",
   "execution_count": 4,
   "metadata": {
    "collapsed": false
   },
   "outputs": [
    {
     "data": {
      "text/plain": [
       "[ 11, 29, 42 ]"
      ]
     },
     "execution_count": 4,
     "metadata": {},
     "output_type": "execute_result"
    }
   ],
   "source": [
    "// Matrix-vector product.\n",
    "var b = n.dot(A, x);\n",
    "b"
   ]
  },
  {
   "cell_type": "code",
   "execution_count": 5,
   "metadata": {
    "collapsed": false
   },
   "outputs": [
    {
     "data": {
      "text/plain": [
       "[ [ -0.9, 0.30000000000000004, 0.09999999999999998 ],\n",
       "  [ -0.1999999999999999,\n",
       "    0.39999999999999997,\n",
       "    -0.19999999999999998 ],\n",
       "  [ 0.7666666666666666, -0.3666666666666667, 0.09999999999999998 ] ]"
      ]
     },
     "execution_count": 5,
     "metadata": {},
     "output_type": "execute_result"
    }
   ],
   "source": [
    "// Matrix inverse.\n",
    "var Ainv = n.inv(A);\n",
    "Ainv"
   ]
  },
  {
   "cell_type": "code",
   "execution_count": 6,
   "metadata": {
    "collapsed": false
   },
   "outputs": [
    {
     "data": {
      "text/plain": [
       "[ 3, 1.0000000000000018, 1.9999999999999982 ]"
      ]
     },
     "execution_count": 6,
     "metadata": {},
     "output_type": "execute_result"
    }
   ],
   "source": [
    "// Let's check it:\n",
    "n.dot(Ainv,b);"
   ]
  },
  {
   "cell_type": "code",
   "execution_count": 7,
   "metadata": {
    "collapsed": false
   },
   "outputs": [
    {
     "data": {
      "text/plain": [
       "-29.999999999999996"
      ]
     },
     "execution_count": 7,
     "metadata": {},
     "output_type": "execute_result"
    }
   ],
   "source": [
    "// Determinant\n",
    "numeric.det(A);"
   ]
  },
  {
   "cell_type": "code",
   "execution_count": 8,
   "metadata": {
    "collapsed": false
   },
   "outputs": [
    {
     "data": {
      "text/plain": [
       "{ lambda: \n",
       "   { x: [ 13.98887031606829, -1.0436794353124923, 2.054809119244198 ],\n",
       "     y: undefined },\n",
       "  E: { x: [ [Object], [Object], [Object] ], y: undefined } }"
      ]
     },
     "execution_count": 8,
     "metadata": {},
     "output_type": "execute_result"
    }
   ],
   "source": [
    "// Eigenvalues.\n",
    "ev = numeric.eig(A)"
   ]
  },
  {
   "cell_type": "markdown",
   "metadata": {},
   "source": [
    "## Hidden Tao\n",
    "\n",
    "Need to try this too: https://github.com/hiddentao/linear-algebra"
   ]
  },
  {
   "cell_type": "code",
   "execution_count": null,
   "metadata": {
    "collapsed": true
   },
   "outputs": [],
   "source": []
  }
 ],
 "metadata": {
  "kernelspec": {
   "display_name": "Javascript (Node.js)",
   "language": "javascript",
   "name": "javascript"
  },
  "language_info": {
   "file_extension": ".js",
   "mimetype": "application/javascript",
   "name": "javascript",
   "version": "4.2.6"
  }
 },
 "nbformat": 4,
 "nbformat_minor": 0
}
