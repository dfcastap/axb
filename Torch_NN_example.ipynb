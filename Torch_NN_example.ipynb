{
 "cells": [
  {
   "cell_type": "code",
   "execution_count": 1,
   "metadata": {
    "collapsed": false
   },
   "outputs": [
    {
     "data": {
      "text/plain": [
       "{\n",
       "  VolumetricMaxUnpooling : table: 0x0c70f7f8\n",
       "  ConcatTable : table: 0x0c6f1cf8\n",
       "  MV : table: 0x0c7987a0\n",
       "  SpatialAveragePooling : table: 0x0c7a7cc0\n",
       "  SpatialConvolutionMM : table: 0x0c704b98\n",
       "  VolumetricReplicationPadding : table: 0x0c714fa0\n",
       "  Reshape : table: 0x0c2d30e0\n",
       "  Jacobian : \n",
       "    {\n",
       "      forward : function: 0x0c775960\n",
       "      testAllUpdate : function: 0x0c7964f0\n",
       "      testDiagHessianInput : function: 0x0c79bda0\n",
       "      testDiagHessianWeight : function: 0x0c79bdc0\n",
       "      testDiagHessianBias : function: 0x0c79bde0\n",
       "      testDiagHessian : function: 0x0c781718\n",
       "      testJacobian : function: 0x0c775fe8\n",
       "      testIO : function: 0x0c7964d0\n",
       "      testJacobianUpdateParameters : function: 0x0c7816f8\n",
       "      backwardDiagHessian : function: 0x0c781740\n",
       "      testJacobianParameters : function: 0x0c7816d8\n",
       "      backwardUpdate : function: 0x0c775940\n",
       "      forwardUpdate : function: 0x0c775fc8\n",
       "      backward : function: 0x0c727e70\n",
       "      linearModuleDiagHessian : function: 0x0c775908\n",
       "    }\n",
       "  SparseLinear : table: 0x0c358010\n",
       "  SoftMarginCriterion : table: 0x0c7c6890\n",
       "  SpatialCrossMapLRN : table: 0x0c646430\n",
       "  CAddTable : table: 0x0c71b430\n",
       "  TemporalConvolution : table: 0x0c76cb78\n",
       "  PairwiseDistance : table: 0x0c63cb38\n",
       "  SpatialClassNLLCriterion : table: 0x0c7cc748\n",
       "  WeightedMSECriterion : table: 0x0c78b168\n",
       "  SmoothL1Criterion : table: 0x0c7c3ca8\n",
       "  TemporalSubSampling : table: 0x0c76f268\n",
       "  PartialLinear : table: 0x0c33d788\n",
       "  TanhShrink : table: 0x0c723de8\n",
       "  MixtureTable : table: 0x0c6fbf38\n",
       "  MSECriterion : table: 0x0c7c24f0\n",
       "  LogSoftMax : table: 0x0c7a0e80\n",
       "  Identity : table: 0x0c717bd0\n",
       "  Exp : table: 0x0c35c810\n",
       "  Add : table: 0x0c61c4e0\n",
       "  SpatialConvolutionLocal : table: 0x0c630278\n",
       "  Squeeze : table: 0x0c32c968\n",
       "  AbsCriterion : table: 0x0c7c81f0\n",
       "  MultiCriterion : table: 0x0c7779f8\n",
       "  Max : table: 0x0c5f13e8\n",
       "  MulConstant : table: 0x0c5f4138\n",
       "  NarrowTable : table: 0x0c7be540\n",
       "  View : table: 0x0c323840\n",
       "  VolumetricConvolution : table: 0x0c653eb0\n",
       "  SpatialSubSampling : table: 0x0c6031e8\n",
       "  HardTanh : table: 0x0c2e35e0\n",
       "  Transpose : table: 0x0c32e0a0\n",
       "  SplitTable : table: 0x0c6f33a8\n",
       "  DotProduct : table: 0x0c5f9910\n",
       "  HingeEmbeddingCriterion : table: 0x0c77bac8\n",
       "  tables : \n",
       "    {\n",
       "      full : function: 0x0c5fe370\n",
       "      oneToOne : function: 0x0c5fe390\n",
       "      random : function: 0x0c5fe3b0\n",
       "    }\n",
       "  DepthConcat : table: 0x0c376e10\n",
       "  CMulTable : table: 0x0c639538\n",
       "  SpatialAdaptiveMaxPooling : table: 0x0c76a428\n",
       "  Parallel : table: 0x0c36d0c8\n",
       "  SoftShrink : table: 0x0c75be20\n",
       "  SpatialSubtractiveNormalization : table: 0x0c774008\n",
       "  Log : table: 0x0c2e1b08\n",
       "  VolumetricDropout : table: 0x0c607dc8\n",
       "  SpatialDropout : table: 0x0c607678\n",
       "  LeakyReLU : table: 0x0c6ed340\n",
       "  VolumetricMaxPooling : table: 0x0c70d120\n",
       "  hessian : \n",
       "    {\n",
       "      enable : function: 0x0c7366b8\n",
       " "
      ]
     },
     "execution_count": 1,
     "metadata": {},
     "output_type": "execute_result"
    },
    {
     "data": {
      "text/plain": [
       "   }\n",
       "  Linear : table: 0x0c5f5c38\n",
       "  Euclidean : table: 0x0c79cae0\n",
       "  CriterionTable : table: 0x0c6fd3c0\n",
       "  SpatialMaxPooling : table: 0x0c602178\n",
       "  MaskedSelect : table: 0x0c37af18\n",
       "  MultiMarginCriterion : table: 0x0c782ee0\n",
       "  ELU : table: 0x0c762b38\n",
       "  Threshold : table: 0x0c758ab0\n",
       "  SpatialReflectionPadding : table: 0x0c649358\n",
       "  Copy : table: 0x0be97c60\n",
       "  Unsqueeze : table: 0x0c2e83f8\n",
       "  VolumetricAveragePooling : table: 0x0c711880\n",
       "  StochasticGradient : table: 0x0c793080\n",
       "  SpatialContrastiveNormalization : table: 0x0c6428e0\n",
       "  Bilinear : table: 0x0c2d51b8\n",
       "  SpatialReplicationPadding : table: 0x0c64c9a8\n",
       "  Padding : table: 0x0c7e3d10\n",
       "  Container : table: 0x0c36e3e0\n",
       "  MarginRankingCriterion : table: 0x0c780fe8\n",
       "  Module : table: 0x0c2f4d10\n",
       "  VolumetricFullConvolution : table: 0x0c654640\n",
       "  Concat : table: 0x0c2fc320\n",
       "  CrossEntropyCriterion : table: 0x0c78ee68\n",
       "  LookupTable : table: 0x0c767338\n",
       "  MarginCriterion : table: 0x0c7c52b8\n",
       "  HardShrink : table: 0x0c75a800\n",
       "  Abs : table: 0x0c7251e0\n",
       "  SparseJacobian : \n",
       "    {\n",
       "      forward : function: 0x0c780d90\n",
       "      testJacobian : function: 0x0c78b8f0\n",
       "      testIO : function: 0x0c780d38\n",
       "      testAllUpdate : function: 0x0c78b868\n",
       "      testJacobianParameters : function: 0x0c78b910\n",
       "      testJacobianUpdateParameters : function: 0x0c793800\n",
       "      forwardUpdate : function: 0x0c78b8d0\n",
       "      backward : function: 0x0c7292f0\n",
       "      backwardUpdate : function: 0x0c780d70\n",
       "    }\n",
       "  SoftMin : table: 0x0c7a5260\n",
       "  WeightedEuclidean : table: 0x0c633d20\n",
       "  VolumetricBatchNormalization : table: 0x0c712768\n",
       "  ClassSimplexCriterion : table: 0x0c7bf720\n",
       "  Contiguous : table: 0x0be4f8f8\n",
       "  FlattenTable : table: 0x0c7bca40\n",
       "  PReLU : table: 0x0c6eb408\n",
       "  utils : \n",
       "    {\n",
       "      contiguousView : function: 0x0c31a4e0\n",
       "      recursiveType : function: 0x0c321d30\n",
       "      recursiveCopy : function: 0x0c374e88\n",
       "      recursiveResizeAs : function: 0x0c34cdf8\n",
       "      recursiveAdd : function: 0x0c374e68\n",
       "      clear : function: 0x0c31a500\n",
       "      addSingletonDimension : function: 0x0c34cdc0\n",
       "      recursiveFill : function: 0x0c374e48\n",
       "    }\n",
       "  JoinTable : table: 0x0c6f5fc8\n",
       "  ClassNLLCriterion : table: 0x0c7ca480\n",
       "  CMul : table: 0x0c658a18\n",
       "  CosineDistance : table: 0x0c63bce8\n",
       "  Index : table: 0x0be53b50\n",
       "  Mean : table: 0x0c659058\n",
       "  Dropout : table: 0x0c65c978\n",
       "  SoftPlus : table: 0x0c2e54c0\n",
       "  test : function: 0x0c829868\n",
       "  MM : table: 0x0c795ed8\n",
       "  SpatialDivisiveNormalization : table: 0x0c641918\n",
       "  L1Penalty : table: 0x0c789568\n",
       "  ParallelCriterion : table: 0x0c790f10\n",
       "  SpatialMaxUnpooling : table: 0x0c7a8328\n",
       "  Sqrt : table: 0x0c7590f0\n",
       "  Sequential : table: 0x0c34b7a0\n",
       "  BCECriterion : table: 0x0c78d6c8\n",
       "  L1Cost : table: 0x0c7879f0\n",
       "  Square : table: 0x0c7572c0\n",
       "  MultiLabelSoftMarginCriterion : table: 0x0c786378\n",
       "  MultiLabelMarginCriterion : table: 0x0c784750\n",
       "  CosineEmbeddingCriterion : table: 0x0c77f140\n",
       "  L1HingeEmbeddingCriterion : table: 0x0c7799f8\n",
       "  SoftMax : table: 0x0c7a3998\n",
       "  DistKLDivCriterion : table: 0x0c7c9978\n",
       "  Cosine : table: 0x0c7b4ad0\n",
       "  Clamp : table: 0x0c2e46c8\n",
       "  SpatialBatchNormalization : table: 0x0c64f5d0\n",
       "  CDivTable : table: 0x0c6380b8\n",
       "  LogSigmoid : table: 0x0c2e1268\n",
       "  TemporalMaxPooling : table: 0x0c770c80\n",
       "  CSubTable : table: 0x0c79da30\n",
       "  Sum : table: 0x0c379ab0\n",
       "  SoftSign : table: 0x0c721510\n",
       "  Normalize : table: 0x0c7b39d8\n",
       "  Mul : table: 0x0c61db28\n",
       "  Min : table: 0x0c5e7510\n",
       "  ReLU6 : table: 0x0c6e8e58\n",
       "  Tanh : table: 0x0c722970\n",
       "  BatchNormalization : table: 0x0c327fc0\n",
       "  SpatialLPPooling : table: 0x0c7b0de0\n",
       "  Select : table: 0x0c322a28\n",
       "  Sigmoid : table: 0x0c7a2360\n",
       "  ReLU : table: 0x0c6e7408\n",
       "  GradientReversal : table: 0x0c36cf10\n",
       "  SpatialConvolution : table: 0x0c62a030\n",
       "  Criterion : table: 0x0c7c08a8\n",
       "  SpatialConvolutionMap : table: 0x0c5fe2a8\n",
       "  AddConstant : table: 0x0c635c60\n",
       "  SpatialFullConvolutionMap : table: 0x0c7063d8\n",
       "  SpatialDilatedConvolution : table: 0x0c600dc0\n",
       "  Power : table: 0x0c7264f8\n",
       "  SpatialFullConvolution : table: 0x0c703b28\n",
       "  Replicate : table: 0x0bdb5a68\n",
       "  RReLU : table: 0x0c760de0\n",
       "  SpatialZeroPadding : table: 0x0c649640\n",
       "  SpatialUpSamplingNearest : table: 0x0c64e690\n",
       "  Narrow : table: 0x0bdb5e70\n",
       "  ParallelTab"
      ]
     },
     "execution_count": 1,
     "metadata": {},
     "output_type": "execute_result"
    },
    {
     "data": {
      "text/plain": [
       "le : table: 0x0c7174d8\n",
       "  SpatialSoftMax : table: 0x0c6ebb30\n",
       "  SelectTable : table: 0x0c6f7ab8\n",
       "  SpatialFractionalMaxPooling : table: 0x0c7ac250\n",
       "}\n"
      ]
     },
     "execution_count": 1,
     "metadata": {},
     "output_type": "execute_result"
    }
   ],
   "source": [
    "require 'nn'"
   ]
  },
  {
   "cell_type": "code",
   "execution_count": 2,
   "metadata": {
    "collapsed": true
   },
   "outputs": [],
   "source": [
    "module = nn.Sequential()\n",
    "module:add(nn.Linear(2, 1))\n",
    "module:add(nn.Sigmoid())"
   ]
  },
  {
   "cell_type": "code",
   "execution_count": 12,
   "metadata": {
    "collapsed": true
   },
   "outputs": [],
   "source": [
    "-- Binary cross-entropy criterion, requires binary target labels\n",
    "criterion = nn.BCECriterion()"
   ]
  },
  {
   "cell_type": "code",
   "execution_count": 3,
   "metadata": {
    "collapsed": true
   },
   "outputs": [],
   "source": [
    "inputs = torch.Tensor(10, 2):uniform(-1, 1)\n",
    "targets = torch.Tensor(10):random(0, 1)"
   ]
  },
  {
   "cell_type": "code",
   "execution_count": 4,
   "metadata": {
    "collapsed": false
   },
   "outputs": [
    {
     "data": {
      "text/plain": [
       "-0.0198  0.3329\n",
       "-0.7851  0.1478\n",
       "-0.8980  0.1415\n",
       " 0.5230  0.0202\n",
       "-0.1698  0.4074\n",
       " 0.5797  0.9106\n",
       " 0.2496  0.3535\n",
       " 0.3021 -0.2028\n",
       "-0.3136  0.4856\n",
       " 0.2529 -0.5642\n",
       "[torch.DoubleTensor of size 10x2]\n",
       "\n"
      ]
     },
     "execution_count": 4,
     "metadata": {},
     "output_type": "execute_result"
    }
   ],
   "source": [
    "inputs"
   ]
  },
  {
   "cell_type": "code",
   "execution_count": 5,
   "metadata": {
    "collapsed": false
   },
   "outputs": [
    {
     "data": {
      "text/plain": [
       "{\n",
       "  bigtest : function: 0x0c5e19b8\n",
       "  test : function: 0x0c5e1970\n",
       "  version : 2\n",
       "}\n"
      ]
     },
     "execution_count": 5,
     "metadata": {},
     "output_type": "execute_result"
    }
   ],
   "source": [
    "require 'dpnn'"
   ]
  },
  {
   "cell_type": "code",
   "execution_count": 8,
   "metadata": {
    "collapsed": true
   },
   "outputs": [],
   "source": [
    "function trainEpoch(module, criterion, inputs, targets)\n",
    "    for i=1, inputs:size(1) do\n",
    "        local idx = math.random(1, inputs:size(1))\n",
    "        local input, target = inputs[idx], targets:narrow(1, idx, 1)\n",
    "        \n",
    "        -- forward\n",
    "        local output = module:forward(input)\n",
    "        local loss = criterion:forward(output, target)\n",
    "        \n",
    "        -- backward\n",
    "        local gradOutput = criterion:backward(output, target)\n",
    "        module:zeroGradParameters()\n",
    "        local gradInput = module:backward(input, gradOutput)\n",
    "        \n",
    "        -- update\n",
    "        module:updateGradParameters(0.9) -- momentum, from dpnn\n",
    "        module:updateParameters(0.1)\n",
    "    end\n",
    "end"
   ]
  },
  {
   "cell_type": "code",
   "execution_count": 13,
   "metadata": {
    "collapsed": false
   },
   "outputs": [],
   "source": [
    "for i=1, 100 do\n",
    "    trainEpoch(module, criterion, inputs, targets)\n",
    "end"
   ]
  },
  {
   "cell_type": "code",
   "execution_count": 14,
   "metadata": {
    "collapsed": false
   },
   "outputs": [
    {
     "ename": "[string \"local f = function() return module.output() e...\"]:1: torch.DoubleTensor has no call operator\nstack traceback:\n\t[C]: in function 'f'\n\t[string \"local f = function() return module.output() e...\"]:1: in main chunk\n\t[C]: in function 'xpcall'\n\t/Users/matt/torch/install/share/lua/5.1/itorch/main.lua:209: in function </Users/matt/torch/install/share/lua/5.1/itorch/main.lua:173>\n\t/Users/matt/torch/install/share/lua/5.1/lzmq/poller.lua:75: in function 'poll'\n\t/Users/matt/torch/install/share/lua/5.1/lzmq/impl/loop.lua:307: in function 'poll'\n\t/Users/matt/torch/install/share/lua/5.1/lzmq/impl/loop.lua:325: in function 'sleep_ex'\n\t/Users/matt/torch/install/share/lua/5.1/lzmq/impl/loop.lua:370: in function 'start'\n\t/Users/matt/torch/install/share/lua/5.1/itorch/main.lua:381: in main chunk\n\t[C]: in function 'require'\n\t(command line):1: in main chunk\n\t[C]: at 0x010bb73d10",
     "evalue": "",
     "output_type": "error",
     "traceback": [
      "[string \"local f = function() return module.output() e...\"]:1: torch.DoubleTensor has no call operator\nstack traceback:\n\t[C]: in function 'f'\n\t[string \"local f = function() return module.output() e...\"]:1: in main chunk\n\t[C]: in function 'xpcall'\n\t/Users/matt/torch/install/share/lua/5.1/itorch/main.lua:209: in function </Users/matt/torch/install/share/lua/5.1/itorch/main.lua:173>\n\t/Users/matt/torch/install/share/lua/5.1/lzmq/poller.lua:75: in function 'poll'\n\t/Users/matt/torch/install/share/lua/5.1/lzmq/impl/loop.lua:307: in function 'poll'\n\t/Users/matt/torch/install/share/lua/5.1/lzmq/impl/loop.lua:325: in function 'sleep_ex'\n\t/Users/matt/torch/install/share/lua/5.1/lzmq/impl/loop.lua:370: in function 'start'\n\t/Users/matt/torch/install/share/lua/5.1/itorch/main.lua:381: in main chunk\n\t[C]: in function 'require'\n\t(command line):1: in main chunk\n\t[C]: at 0x010bb73d10"
     ]
    }
   ],
   "source": [
    "module.output()"
   ]
  },
  {
   "cell_type": "code",
   "execution_count": null,
   "metadata": {
    "collapsed": true
   },
   "outputs": [],
   "source": []
  }
 ],
 "metadata": {
  "kernelspec": {
   "display_name": "iTorch",
   "language": "lua",
   "name": "itorch"
  },
  "language_info": {
   "name": "lua",
   "version": "5.1"
  }
 },
 "nbformat": 4,
 "nbformat_minor": 0
}
