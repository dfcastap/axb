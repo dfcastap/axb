{
 "cells": [
  {
   "cell_type": "markdown",
   "metadata": {},
   "source": [
    "# Julia\n",
    "\n",
    "As languages go, [installing Julia](http://julialang.org/downloads/platform.html) is a piece of cake. You also need [IJulia](https://github.com/JuliaLang/IJulia.jl) to run this notebook. You will also need to instal the PyPlot package:\n",
    "\n",
    "    Pkg.add(\"PyPlot\")\n",
    "\n",
    "I'm using Julia v0.4.5. \n",
    "\n",
    "## Basic example\n",
    "\n",
    "[Basic array help.](http://docs.julialang.org/en/release-0.4/manual/arrays/)\n",
    "\n",
    "[The linalg help is here.](http://docs.julialang.org/en/release-0.4/stdlib/linalg/)"
   ]
  },
  {
   "cell_type": "code",
   "execution_count": 1,
   "metadata": {
    "collapsed": false
   },
   "outputs": [
    {
     "data": {
      "text/plain": [
       "3-element Array{Float64,1}:\n",
       "  1.82545 \n",
       " -1.37818 \n",
       " -0.181818"
      ]
     },
     "execution_count": 1,
     "metadata": {},
     "output_type": "execute_result"
    }
   ],
   "source": [
    "A = [[2,5,4] [1,5,2] [7,9,3]]\n",
    "b = [1, 0.6, 4]\n",
    "\n",
    "x = A \\ b"
   ]
  },
  {
   "cell_type": "code",
   "execution_count": 2,
   "metadata": {
    "collapsed": false
   },
   "outputs": [
    {
     "data": {
      "text/plain": [
       "3-element Array{Float64,1}:\n",
       "  1.82545 \n",
       " -1.37818 \n",
       " -0.181818"
      ]
     },
     "execution_count": 2,
     "metadata": {},
     "output_type": "execute_result"
    }
   ],
   "source": [
    "# You can also write this like:\n",
    "\\(A, b)"
   ]
  },
  {
   "cell_type": "code",
   "execution_count": 3,
   "metadata": {
    "collapsed": false
   },
   "outputs": [
    {
     "data": {
      "text/plain": [
       "3-element Array{Float64,1}:\n",
       " 1.0\n",
       " 0.6\n",
       " 4.0"
      ]
     },
     "execution_count": 3,
     "metadata": {},
     "output_type": "execute_result"
    }
   ],
   "source": [
    "A * x"
   ]
  },
  {
   "cell_type": "markdown",
   "metadata": {},
   "source": [
    "## Mauricio's example"
   ]
  },
  {
   "cell_type": "code",
   "execution_count": 4,
   "metadata": {
    "collapsed": false
   },
   "outputs": [
    {
     "data": {
      "text/plain": [
       "2.1"
      ]
     },
     "execution_count": 4,
     "metadata": {},
     "output_type": "execute_result"
    }
   ],
   "source": [
    "# Define model m\n",
    "M = 50\n",
    "m = zeros(M, 1)\n",
    "m[10:15,:] = 1.0\n",
    "m[15:27,:] = -0.3\n",
    "m[27:35,:] = 2.1"
   ]
  },
  {
   "cell_type": "code",
   "execution_count": 5,
   "metadata": {
    "collapsed": false
   },
   "outputs": [],
   "source": [
    "using PyPlot"
   ]
  },
  {
   "cell_type": "code",
   "execution_count": 6,
   "metadata": {
    "collapsed": false
   },
   "outputs": [
    {
     "data": {
      "image/png": "[encoded data removed]",
      "text/plain": [
       "PyPlot.Figure(PyObject <matplotlib.figure.Figure object at 0x32283a0f0>)"
      ]
     },
     "metadata": {},
     "output_type": "display_data"
    },
    {
     "data": {
      "text/plain": [
       "1-element Array{Any,1}:\n",
       " PyObject <matplotlib.lines.Line2D object at 0x322537908>"
      ]
     },
     "execution_count": 6,
     "metadata": {},
     "output_type": "execute_result"
    }
   ],
   "source": [
    "figure(figsize=(4,4))\n",
    "plot(m)"
   ]
  },
  {
   "cell_type": "code",
   "execution_count": 7,
   "metadata": {
    "collapsed": false
   },
   "outputs": [
    {
     "data": {
      "text/plain": [
       "linspace(0.0,100.0,20)"
      ]
     },
     "execution_count": 7,
     "metadata": {},
     "output_type": "execute_result"
    }
   ],
   "source": [
    "# Discrete kernel G\n",
    "N = 20\n",
    "L = 100\n",
    "α = 0.8\n",
    "\n",
    "x = linspace(0, M-1, 50) * L/(M-1)\n",
    "dx = L/(M-1)\n",
    "r = linspace(0, N-1, 20) * L/(N-1)"
   ]
  },
  {
   "cell_type": "markdown",
   "metadata": {},
   "source": [
    "This double loop thing is not idiomatic, I am sure, but we don't care about performance here."
   ]
  },
  {
   "cell_type": "code",
   "execution_count": 8,
   "metadata": {
    "collapsed": false
   },
   "outputs": [],
   "source": [
    "G = zeros(N, M)\n",
    "for j = 1:M\n",
    "    for k = 1:N\n",
    "        G[k,j] = dx * exp(-α * abs(r[k] - x[j])^2)\n",
    "    end\n",
    "end"
   ]
  },
  {
   "cell_type": "code",
   "execution_count": 10,
   "metadata": {
    "collapsed": false
   },
   "outputs": [
    {
     "data": {
      "text/plain": [
       "20x1 Array{Float64,2}:\n",
       "  1.25641e-117\n",
       "  4.44882e-60 \n",
       "  8.88893e-22 \n",
       "  0.0100219   \n",
       "  1.89932     \n",
       "  2.0981      \n",
       " -0.533863    \n",
       " -0.652657    \n",
       " -0.552857    \n",
       " -0.609585    \n",
       "  3.65305     \n",
       "  3.87        \n",
       "  4.5686      \n",
       "  3.73396     \n",
       "  1.65396e-6  \n",
       "  7.60682e-32 \n",
       "  1.97411e-76 \n",
       "  2.89088e-140\n",
       "  2.38881e-223\n",
       "  0.0         "
      ]
     },
     "execution_count": 10,
     "metadata": {},
     "output_type": "execute_result"
    }
   ],
   "source": [
    "# Compute data\n",
    "d = G * m"
   ]
  },
  {
   "cell_type": "code",
   "execution_count": 25,
   "metadata": {
    "collapsed": false
   },
   "outputs": [
    {
     "data": {
      "image/png": "[encoded data removed]",
      "text/plain": [
       "PyPlot.Figure(PyObject <matplotlib.figure.Figure object at 0x3191249b0>)"
      ]
     },
     "metadata": {},
     "output_type": "display_data"
    },
    {
     "data": {
      "text/plain": [
       "1-element Array{Any,1}:\n",
       " PyObject <matplotlib.lines.Line2D object at 0x3191efd68>"
      ]
     },
     "execution_count": 25,
     "metadata": {},
     "output_type": "execute_result"
    }
   ],
   "source": [
    "figure(figsize=(4,4))\n",
    "plot(d)"
   ]
  },
  {
   "cell_type": "code",
   "execution_count": 11,
   "metadata": {
    "collapsed": false
   },
   "outputs": [
    {
     "data": {
      "text/plain": [
       "20x1 Array{Float64,2}:\n",
       "  2.17869e-32\n",
       " -1.27328e-28\n",
       "  9.0518e-22 \n",
       "  0.0100219  \n",
       "  1.89932    \n",
       "  2.0981     \n",
       " -0.533863   \n",
       " -0.652657   \n",
       " -0.552857   \n",
       " -0.609585   \n",
       "  3.65305    \n",
       "  3.87       \n",
       "  4.5686     \n",
       "  3.73396    \n",
       "  1.65396e-6 \n",
       "  1.79399e-26\n",
       "  2.44999e-31\n",
       " -4.65814e-35\n",
       " -1.17433e-39\n",
       "  0.0        "
      ]
     },
     "execution_count": 11,
     "metadata": {},
     "output_type": "execute_result"
    }
   ],
   "source": [
    "# Minimum norm solution\n",
    "m_est = G' * inv(G * G') * d\n",
    "\n",
    "# Data prediction\n",
    "d_pred = G * m_est"
   ]
  },
  {
   "cell_type": "code",
   "execution_count": 13,
   "metadata": {
    "collapsed": false
   },
   "outputs": [
    {
     "data": {
      "text/plain": [
       "50x1 Array{Float64,2}:\n",
       " -1.64682e-17\n",
       "  4.34675e-16\n",
       "  5.77196e-13\n",
       "  9.67156e-13\n",
       " -6.05615e-10\n",
       " -4.85516e-8 \n",
       "  3.15649e-7 \n",
       "  0.00121764 \n",
       "  0.00590152 \n",
       "  0.00524062 \n",
       "  1.19486    \n",
       "  0.350108   \n",
       "  0.0765616  \n",
       "  ⋮          \n",
       " -2.41464e-10\n",
       "  5.50822e-10\n",
       "  2.39898e-12\n",
       " -1.42575e-14\n",
       " -2.94446e-15\n",
       " -7.63294e-19\n",
       "  1.17406e-19\n",
       "  1.46448e-21\n",
       " -2.33875e-24\n",
       " -1.39576e-24\n",
       " -1.05112e-27\n",
       "  3.98228e-29"
      ]
     },
     "execution_count": 13,
     "metadata": {},
     "output_type": "execute_result"
    }
   ],
   "source": [
    "# Minimum norm solution\n",
    "m_est = G' * inv(G * G') * d"
   ]
  },
  {
   "cell_type": "code",
   "execution_count": 15,
   "metadata": {
    "collapsed": false
   },
   "outputs": [
    {
     "data": {
      "image/png": "[encoded data removed]",
      "text/plain": [
       "PyPlot.Figure(PyObject <matplotlib.figure.Figure object at 0x3226126a0>)"
      ]
     },
     "metadata": {},
     "output_type": "display_data"
    },
    {
     "data": {
      "text/plain": [
       "1-element Array{Any,1}:\n",
       " PyObject <matplotlib.lines.Line2D object at 0x322694470>"
      ]
     },
     "execution_count": 15,
     "metadata": {},
     "output_type": "execute_result"
    }
   ],
   "source": [
    "figure(figsize=(4,4))\n",
    "plot(m_est)"
   ]
  },
  {
   "cell_type": "code",
   "execution_count": 11,
   "metadata": {
    "collapsed": false
   },
   "outputs": [
    {
     "data": {
      "text/plain": [
       "20x1 Array{Float64,2}:\n",
       "  2.17869e-32\n",
       " -1.27328e-28\n",
       "  9.0518e-22 \n",
       "  0.0100219  \n",
       "  1.89932    \n",
       "  2.0981     \n",
       " -0.533863   \n",
       " -0.652657   \n",
       " -0.552857   \n",
       " -0.609585   \n",
       "  3.65305    \n",
       "  3.87       \n",
       "  4.5686     \n",
       "  3.73396    \n",
       "  1.65396e-6 \n",
       "  1.79399e-26\n",
       "  2.44999e-31\n",
       " -4.65814e-35\n",
       " -1.17433e-39\n",
       "  0.0        "
      ]
     },
     "execution_count": 11,
     "metadata": {},
     "output_type": "execute_result"
    }
   ],
   "source": [
    "# Data prediction\n",
    "d_pred = G * m_est"
   ]
  },
  {
   "cell_type": "code",
   "execution_count": 12,
   "metadata": {
    "collapsed": false
   },
   "outputs": [
    {
     "data": {
      "image/png": "[encoded data removed]",
      "text/plain": [
       "PyPlot.Figure(PyObject <matplotlib.figure.Figure object at 0x32255b5f8>)"
      ]
     },
     "metadata": {},
     "output_type": "display_data"
    },
    {
     "data": {
      "text/plain": [
       "1-element Array{Any,1}:\n",
       " PyObject <matplotlib.lines.Line2D object at 0x3225cb6a0>"
      ]
     },
     "execution_count": 12,
     "metadata": {},
     "output_type": "execute_result"
    }
   ],
   "source": [
    "figure(figsize=(4,4))\n",
    "plot(d_pred)"
   ]
  },
  {
   "cell_type": "code",
   "execution_count": null,
   "metadata": {
    "collapsed": true
   },
   "outputs": [],
   "source": []
  }
 ],
 "metadata": {
  "kernelspec": {
   "display_name": "Julia 0.4.6",
   "language": "julia",
   "name": "julia-0.4"
  },
  "language_info": {
   "file_extension": ".jl",
   "mimetype": "application/julia",
   "name": "julia",
   "version": "0.4.6"
  }
 },
 "nbformat": 4,
 "nbformat_minor": 0
}
